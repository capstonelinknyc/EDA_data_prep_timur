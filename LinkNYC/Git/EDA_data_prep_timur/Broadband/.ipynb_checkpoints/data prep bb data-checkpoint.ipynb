{
 "cells": [
  {
   "cell_type": "markdown",
   "metadata": {},
   "source": [
    "This notebook contains data prep for Tableau maps I'm working on"
   ]
  },
  {
   "cell_type": "code",
   "execution_count": 167,
   "metadata": {},
   "outputs": [],
   "source": [
    "# Import libraries\n",
    "import pandas as pd\n",
    "import geopandas as gpd\n",
    "import numpy as np"
   ]
  },
  {
   "cell_type": "code",
   "execution_count": 168,
   "metadata": {},
   "outputs": [],
   "source": [
    "# Loading in data \n",
    "# Import Census broadband availability data (accessed and extracted from ) \n",
    "bb = pd.read_csv('/Users/tm/LinkNYC/Broadband/data/policymap_broadband_nyc.csv', usecols=['Census Tract','% of households w/o broadband'])\n",
    "\n",
    "# shapefile can be downloaded here: https://data.cityofnewyork.us/api/geospatial/fxpq-c8ku?method=export&format=Shapefile\n",
    "# Import the shapefile \n",
    "ctshp = gpd.GeoDataFrame.from_file('/Users/tm/LinkNYC/Broadband/data/2010 Census Tracts/geo_export_e0b88341-f65f-4021-8eed-96940660bc89.shp')\n",
    "#ctshp.head(3)"
   ]
  },
  {
   "cell_type": "code",
   "execution_count": 169,
   "metadata": {},
   "outputs": [
    {
     "data": {
      "text/html": [
       "<div>\n",
       "<style scoped>\n",
       "    .dataframe tbody tr th:only-of-type {\n",
       "        vertical-align: middle;\n",
       "    }\n",
       "\n",
       "    .dataframe tbody tr th {\n",
       "        vertical-align: top;\n",
       "    }\n",
       "\n",
       "    .dataframe thead th {\n",
       "        text-align: right;\n",
       "    }\n",
       "</style>\n",
       "<table border=\"1\" class=\"dataframe\">\n",
       "  <thead>\n",
       "    <tr style=\"text-align: right;\">\n",
       "      <th></th>\n",
       "      <th>Census Tract</th>\n",
       "      <th>% of households w/o broadband</th>\n",
       "    </tr>\n",
       "  </thead>\n",
       "  <tbody>\n",
       "    <tr>\n",
       "      <th>0</th>\n",
       "      <td>36081990100, NY</td>\n",
       "      <td>NaN</td>\n",
       "    </tr>\n",
       "    <tr>\n",
       "      <th>1</th>\n",
       "      <td>36085990100, NY</td>\n",
       "      <td>NaN</td>\n",
       "    </tr>\n",
       "    <tr>\n",
       "      <th>2</th>\n",
       "      <td>36081107202, NY</td>\n",
       "      <td>NaN</td>\n",
       "    </tr>\n",
       "    <tr>\n",
       "      <th>3</th>\n",
       "      <td>36047070203, NY</td>\n",
       "      <td>NaN</td>\n",
       "    </tr>\n",
       "    <tr>\n",
       "      <th>4</th>\n",
       "      <td>36081071600, NY</td>\n",
       "      <td>NaN</td>\n",
       "    </tr>\n",
       "  </tbody>\n",
       "</table>\n",
       "</div>"
      ],
      "text/plain": [
       "      Census Tract  % of households w/o broadband\n",
       "0  36081990100, NY                            NaN\n",
       "1  36085990100, NY                            NaN\n",
       "2  36081107202, NY                            NaN\n",
       "3  36047070203, NY                            NaN\n",
       "4  36081071600, NY                            NaN"
      ]
     },
     "execution_count": 169,
     "metadata": {},
     "output_type": "execute_result"
    }
   ],
   "source": [
    "bb.head(5)"
   ]
  },
  {
   "attachments": {},
   "cell_type": "markdown",
   "metadata": {},
   "source": [
    "__About census tract codes:__\n",
    "\n",
    "Census tracts are geographic entities within counties (or the statistical equivalent of counties). The entire area of a county is covered by census tracts, just as the entire area of a state is covered by counties and county equivalents.\n",
    "\n",
    "Per FCC, \"..a census tract code may not be used more than once in a single county, but it may be used again in a different county in the same state or in a county in a different state.\"\n",
    "\n",
    "Census Tracts consist of 3 things: \n",
    "\n",
    "![Image denotes census tract number breakdown, \n",
    "with the first two digits corresponding to the state,\n",
    "the following three digits corresponding to the county, \n",
    "and the last six digits corresping to the census tract code (four digits) and a suffix (two digits)](data/images/census_tract_code_breakdown.png)\n",
    "\n",
    "\n",
    "- The first two digits corresponding to the state,\n",
    "- The following three digits corresponding to the county, \n",
    "- The last six digits corresping to the census tract code (four digits) and a suffix (two digits)\n",
    "\n",
    "More here: https://transition.fcc.gov/form477/Geo/more_about_census_tracts.pdf"
   ]
  },
  {
   "cell_type": "code",
   "execution_count": 170,
   "metadata": {},
   "outputs": [],
   "source": [
    "# Extract the county codes and census tracts from census tract code \n",
    "# These numbers stand for the following NYC Boroughs & counties:\n",
    "\n",
    "# 061 - Manhattan (New York County)\n",
    "# 005 - The Bronx (Bronx County)\n",
    "# 047 - Brooklyn (Kings County)\n",
    "# 081 - Queens (Queens Count)\n",
    "# 085 - Staten Island (Richmond County)\n",
    "\n",
    "\n",
    "bb['census_tract_county_code'] = bb['Census Tract'].str[2:5] # digits 3,4,5\n",
    "bb['census_tract'] = bb['Census Tract'].str[5:11] # last 6 digits"
   ]
  },
  {
   "cell_type": "code",
   "execution_count": 171,
   "metadata": {},
   "outputs": [],
   "source": [
    "bb['borough'] = np.nan"
   ]
  },
  {
   "cell_type": "code",
   "execution_count": 172,
   "metadata": {},
   "outputs": [],
   "source": [
    "# Create NYC borough codes out of county codes. \n",
    "#\n",
    "# The City of New York uses the following codes for boroughs\n",
    "# 1 - Manhattan\n",
    "# 2 - The Bronx\n",
    "# 3 - Brooklyn\n",
    "# 4 - Queens\n",
    "# 5 - Staten Island\n",
    "\n",
    "conditions = [\n",
    "    (bb['census_tract_county_code'] =='061'),\n",
    "    (bb['census_tract_county_code'] =='005'),\n",
    "    (bb['census_tract_county_code'] =='047'),\n",
    "    (bb['census_tract_county_code'] =='081'),\n",
    "    (bb['census_tract_county_code'] =='085'),\n",
    "]\n",
    "\n",
    "choices = [1,2,3,4,5]\n",
    "\n",
    "bb['borough'] = np.select(conditions, choices, default='!!!')"
   ]
  },
  {
   "cell_type": "code",
   "execution_count": 173,
   "metadata": {},
   "outputs": [],
   "source": [
    "# Create a column for borough + census tract 7-digit code as used by NYC Open Data \n",
    "bb['borough_census_tract'] = bb['borough'] + bb['census_tract']"
   ]
  },
  {
   "cell_type": "code",
   "execution_count": 174,
   "metadata": {},
   "outputs": [],
   "source": [
    "# bb['% of households w/o broadband'].isnull().sum()"
   ]
  },
  {
   "cell_type": "code",
   "execution_count": 175,
   "metadata": {},
   "outputs": [
    {
     "data": {
      "text/html": [
       "<div>\n",
       "<style scoped>\n",
       "    .dataframe tbody tr th:only-of-type {\n",
       "        vertical-align: middle;\n",
       "    }\n",
       "\n",
       "    .dataframe tbody tr th {\n",
       "        vertical-align: top;\n",
       "    }\n",
       "\n",
       "    .dataframe thead th {\n",
       "        text-align: right;\n",
       "    }\n",
       "</style>\n",
       "<table border=\"1\" class=\"dataframe\">\n",
       "  <thead>\n",
       "    <tr style=\"text-align: right;\">\n",
       "      <th></th>\n",
       "      <th>Census Tract</th>\n",
       "      <th>% of households w/o broadband</th>\n",
       "      <th>census_tract_county_code</th>\n",
       "      <th>census_tract</th>\n",
       "      <th>borough</th>\n",
       "      <th>borough_census_tract</th>\n",
       "    </tr>\n",
       "  </thead>\n",
       "  <tbody>\n",
       "    <tr>\n",
       "      <th>0</th>\n",
       "      <td>36081990100, NY</td>\n",
       "      <td>NaN</td>\n",
       "      <td>081</td>\n",
       "      <td>990100</td>\n",
       "      <td>4</td>\n",
       "      <td>4990100</td>\n",
       "    </tr>\n",
       "    <tr>\n",
       "      <th>1</th>\n",
       "      <td>36085990100, NY</td>\n",
       "      <td>NaN</td>\n",
       "      <td>085</td>\n",
       "      <td>990100</td>\n",
       "      <td>5</td>\n",
       "      <td>5990100</td>\n",
       "    </tr>\n",
       "    <tr>\n",
       "      <th>2</th>\n",
       "      <td>36081107202, NY</td>\n",
       "      <td>NaN</td>\n",
       "      <td>081</td>\n",
       "      <td>107202</td>\n",
       "      <td>4</td>\n",
       "      <td>4107202</td>\n",
       "    </tr>\n",
       "    <tr>\n",
       "      <th>3</th>\n",
       "      <td>36047070203, NY</td>\n",
       "      <td>NaN</td>\n",
       "      <td>047</td>\n",
       "      <td>070203</td>\n",
       "      <td>3</td>\n",
       "      <td>3070203</td>\n",
       "    </tr>\n",
       "    <tr>\n",
       "      <th>4</th>\n",
       "      <td>36081071600, NY</td>\n",
       "      <td>NaN</td>\n",
       "      <td>081</td>\n",
       "      <td>071600</td>\n",
       "      <td>4</td>\n",
       "      <td>4071600</td>\n",
       "    </tr>\n",
       "  </tbody>\n",
       "</table>\n",
       "</div>"
      ],
      "text/plain": [
       "      Census Tract  % of households w/o broadband census_tract_county_code  \\\n",
       "0  36081990100, NY                            NaN                      081   \n",
       "1  36085990100, NY                            NaN                      085   \n",
       "2  36081107202, NY                            NaN                      081   \n",
       "3  36047070203, NY                            NaN                      047   \n",
       "4  36081071600, NY                            NaN                      081   \n",
       "\n",
       "  census_tract borough borough_census_tract  \n",
       "0       990100       4              4990100  \n",
       "1       990100       5              5990100  \n",
       "2       107202       4              4107202  \n",
       "3       070203       3              3070203  \n",
       "4       071600       4              4071600  "
      ]
     },
     "execution_count": 175,
     "metadata": {},
     "output_type": "execute_result"
    }
   ],
   "source": [
    "bb.head()"
   ]
  },
  {
   "cell_type": "code",
   "execution_count": 177,
   "metadata": {},
   "outputs": [],
   "source": [
    "ctshp_bb = pd.merge(ctshp, bb, left_on='boro_ct201', right_on='borough_census_tract')"
   ]
  },
  {
   "cell_type": "code",
   "execution_count": 179,
   "metadata": {},
   "outputs": [],
   "source": [
    "ctshp_bb.to_file(\"ctshp_bb_1.shp\")"
   ]
  },
  {
   "cell_type": "code",
   "execution_count": null,
   "metadata": {},
   "outputs": [],
   "source": []
  },
  {
   "cell_type": "code",
   "execution_count": null,
   "metadata": {},
   "outputs": [],
   "source": []
  }
 ],
 "metadata": {
  "kernelspec": {
   "display_name": "Python 3",
   "language": "python",
   "name": "python3"
  },
  "language_info": {
   "codemirror_mode": {
    "name": "ipython",
    "version": 3
   },
   "file_extension": ".py",
   "mimetype": "text/x-python",
   "name": "python",
   "nbconvert_exporter": "python",
   "pygments_lexer": "ipython3",
   "version": "3.7.3"
  }
 },
 "nbformat": 4,
 "nbformat_minor": 2
}
